{
 "cells": [
  {
   "cell_type": "markdown",
   "id": "38a426aa-2a3b-4a0f-9802-367c5e40d6a6",
   "metadata": {},
   "source": [
    "# In this notebook, Data Science Tools and Ecosystem are summarized. "
   ]
  },
  {
   "cell_type": "markdown",
   "id": "96d92387-4195-4b5b-86fb-00b6b42ddacc",
   "metadata": {},
   "source": [
    "# Objectives:\n",
    "\n",
    "List popular languages for Data Science\n",
    "1. Python\n",
    "2. SQL\n",
    "3. R"
   ]
  },
  {
   "cell_type": "markdown",
   "id": "e44e5d9b-84cb-40db-8c57-0a2d383edd1e",
   "metadata": {},
   "source": [
    "Some of the popular languages that Data Scientists use are:"
   ]
  },
  {
   "cell_type": "markdown",
   "id": "8d326e47-ed2f-4b99-ae24-b189ced93e1c",
   "metadata": {},
   "source": [
    "1. Tensorflow"
   ]
  },
  {
   "cell_type": "markdown",
   "id": "fa10431c-fff3-4134-887e-1517320ae101",
   "metadata": {},
   "source": [
    "2. Seaborn"
   ]
  },
  {
   "cell_type": "markdown",
   "id": "c5b64433-9fbc-4fb2-bd57-4a1423c7ff73",
   "metadata": {},
   "source": [
    "3. NumPy"
   ]
  },
  {
   "cell_type": "markdown",
   "id": "19646cf9-8038-4c17-bc18-9fbbff25cb30",
   "metadata": {},
   "source": [
    "# Data Science Tools\n",
    "\n",
    "1. Jupyter Notebook\n",
    "2. RStudio\n",
    "3. Spyder"
   ]
  },
  {
   "cell_type": "markdown",
   "id": "e65d4690-83fd-4f1a-bfe2-af1b9f50107d",
   "metadata": {},
   "source": [
    "# Below are a few examples of evaluating arithmetic expressions in Python"
   ]
  },
  {
   "cell_type": "code",
   "execution_count": 8,
   "id": "c288869e-dc69-4660-be19-198451217ee3",
   "metadata": {},
   "outputs": [
    {
     "data": {
      "text/plain": [
       "17"
      ]
     },
     "execution_count": 8,
     "metadata": {},
     "output_type": "execute_result"
    }
   ],
   "source": [
    "#This a simple arithmetic expression to mutiply then add integers\n",
    "(3*4)+5"
   ]
  },
  {
   "cell_type": "code",
   "execution_count": 9,
   "id": "a3fb0ac6-2e39-4bac-9d48-430c8e718c53",
   "metadata": {},
   "outputs": [
    {
     "data": {
      "text/plain": [
       "3.3333333333333335"
      ]
     },
     "execution_count": 9,
     "metadata": {},
     "output_type": "execute_result"
    }
   ],
   "source": [
    "# This will convert 200 minutes to hours by diving by 60\n",
    "minutes = 200\n",
    "hours = minutes / 60\n",
    "hours"
   ]
  },
  {
   "cell_type": "markdown",
   "id": "f7ae5c71-f82b-4b3d-9618-c9f485c7eb98",
   "metadata": {},
   "source": [
    "# Author: Jaspher Sanchez"
   ]
  },
  {
   "cell_type": "code",
   "execution_count": null,
   "id": "25456f9b-0e54-4c63-b501-a9e566e6ea35",
   "metadata": {},
   "outputs": [],
   "source": []
  }
 ],
 "metadata": {
  "kernelspec": {
   "display_name": "Python 3 (ipykernel)",
   "language": "python",
   "name": "python3"
  },
  "language_info": {
   "codemirror_mode": {
    "name": "ipython",
    "version": 3
   },
   "file_extension": ".py",
   "mimetype": "text/x-python",
   "name": "python",
   "nbconvert_exporter": "python",
   "pygments_lexer": "ipython3",
   "version": "3.11.7"
  }
 },
 "nbformat": 4,
 "nbformat_minor": 5
}
